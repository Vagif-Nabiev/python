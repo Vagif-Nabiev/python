{
 "cells": [
  {
   "cell_type": "markdown",
   "id": "321b8c91-db74-425e-b0f7-0e2181654c96",
   "metadata": {},
   "source": [
    "# Variables:"
   ]
  },
  {
   "cell_type": "markdown",
   "id": "c54d7afe-407b-4dda-9bdd-c7576e8303ec",
   "metadata": {
    "tags": []
   },
   "source": [
    "### 1.Declare a variable named age and assign it the value 25."
   ]
  },
  {
   "cell_type": "code",
   "execution_count": 5,
   "id": "a370fa37-e757-4a0a-abba-e1b4845fb83a",
   "metadata": {
    "tags": []
   },
   "outputs": [
    {
     "name": "stdout",
     "output_type": "stream",
     "text": [
      "25\n"
     ]
    }
   ],
   "source": [
    "age = 25\n",
    "print(age)\n"
   ]
  },
  {
   "cell_type": "markdown",
   "id": "1a7c7b38-63c0-45f0-819c-68c5ddc860f1",
   "metadata": {},
   "source": [
    "### 2.Can you reassign a variable in Python? Show an example."
   ]
  },
  {
   "cell_type": "code",
   "execution_count": 6,
   "id": "1302cd54-72e7-489e-ace8-5cc6e76e45bc",
   "metadata": {
    "tags": []
   },
   "outputs": [
    {
     "name": "stdout",
     "output_type": "stream",
     "text": [
      "30\n"
     ]
    }
   ],
   "source": [
    "age = 30\n",
    "print(age)"
   ]
  },
  {
   "cell_type": "markdown",
   "id": "d20f1f9b-7de6-4a2d-a112-cd621773eb6b",
   "metadata": {},
   "source": [
    "### 3.How do you delete a variable in Python?"
   ]
  },
  {
   "cell_type": "code",
   "execution_count": 7,
   "id": "d920da89-7702-464c-b237-201f2d42b578",
   "metadata": {
    "tags": []
   },
   "outputs": [
    {
     "ename": "NameError",
     "evalue": "name 'age' is not defined",
     "output_type": "error",
     "traceback": [
      "\u001b[1;31m---------------------------------------------------------------------------\u001b[0m",
      "\u001b[1;31mNameError\u001b[0m                                 Traceback (most recent call last)",
      "Cell \u001b[1;32mIn[7], line 3\u001b[0m\n\u001b[0;32m      1\u001b[0m \u001b[38;5;28;01mdel\u001b[39;00m age\n\u001b[0;32m      2\u001b[0m \u001b[38;5;66;03m#this code will give an error: NameError: name 'age' is not defined\u001b[39;00m\n\u001b[1;32m----> 3\u001b[0m \u001b[38;5;28mprint\u001b[39m(age)\n",
      "\u001b[1;31mNameError\u001b[0m: name 'age' is not defined"
     ]
    }
   ],
   "source": [
    "del age\n",
    "#this code will give an error: NameError: name 'age' is not defined\n",
    "print(age)\n"
   ]
  },
  {
   "cell_type": "markdown",
   "id": "6572bb55-2a09-41da-929f-2a0294f1c771",
   "metadata": {},
   "source": [
    "### 4.Demonstrate declaring and initializing a variable within a function."
   ]
  },
  {
   "cell_type": "code",
   "execution_count": 8,
   "id": "5fc59bda-c591-4c3b-9e0a-db0e125977ae",
   "metadata": {
    "tags": []
   },
   "outputs": [
    {
     "name": "stdout",
     "output_type": "stream",
     "text": [
      "99\n"
     ]
    }
   ],
   "source": [
    "def inside():\n",
    "    inside_var = 99\n",
    "    print(inside_var)\n",
    "inside()"
   ]
  },
  {
   "cell_type": "markdown",
   "id": "74456e2d-7fd4-4f13-8a54-3153e8342a68",
   "metadata": {},
   "source": [
    "### 5.Create multiple variables, x, y, and z, and assign them the same value in a single line."
   ]
  },
  {
   "cell_type": "code",
   "execution_count": 9,
   "id": "05da8186-5284-41f3-8dab-d558f15d4c38",
   "metadata": {
    "tags": []
   },
   "outputs": [
    {
     "name": "stdout",
     "output_type": "stream",
     "text": [
      "10 10 10\n"
     ]
    }
   ],
   "source": [
    "x=y=z = 10\n",
    "print(x,y,z)"
   ]
  },
  {
   "cell_type": "markdown",
   "id": "acf790e1-b068-4556-887f-8f8c81b3f91d",
   "metadata": {},
   "source": [
    "### 6.Swap the values of two variables a and b using a temporary variable"
   ]
  },
  {
   "cell_type": "code",
   "execution_count": 10,
   "id": "eca99bdd-9182-4283-a6e6-339d88509942",
   "metadata": {
    "tags": []
   },
   "outputs": [
    {
     "name": "stdout",
     "output_type": "stream",
     "text": [
      "5 10\n"
     ]
    }
   ],
   "source": [
    "a = 10\n",
    "b = 5\n",
    "a,b = b,a \n",
    "print(a,b)"
   ]
  },
  {
   "cell_type": "markdown",
   "id": "5e0bdd2e-7f3c-443f-8c50-240dbb5fb0d2",
   "metadata": {},
   "source": [
    "### 7.What happens if you try to access a variable that hasn't been declared?"
   ]
  },
  {
   "cell_type": "markdown",
   "id": "e1505bf9-a08a-4300-832a-13be9b82348e",
   "metadata": {},
   "source": [
    "* This will give a NameError saying that variable is not defined"
   ]
  },
  {
   "cell_type": "markdown",
   "id": "3e9e34ed-1b84-4986-a41c-0a9f7fe4e1bc",
   "metadata": {},
   "source": [
    "### 8.Explain the concept of variable scope in Python."
   ]
  },
  {
   "cell_type": "code",
   "execution_count": 16,
   "id": "08c99ba9-935c-4d7d-8753-291e6d5fa0b1",
   "metadata": {
    "tags": []
   },
   "outputs": [
    {
     "name": "stdout",
     "output_type": "stream",
     "text": [
      "18\n"
     ]
    }
   ],
   "source": [
    "#If variable declared outside of a function we can acces it from inside of a function\n",
    "age = 18\n",
    "\n",
    "def funct():\n",
    "    print(age)\n",
    "\n",
    "funct()"
   ]
  },
  {
   "cell_type": "code",
   "execution_count": null,
   "id": "081d1265-79e6-4753-b6f9-5525d7d55ecb",
   "metadata": {},
   "outputs": [],
   "source": [
    "#you can NOT access a variable from outside of a function which is inside of a function \n",
    "def funct():\n",
    "    age= 20\n",
    "funct()\n",
    "print(age)"
   ]
  },
  {
   "cell_type": "code",
   "execution_count": 19,
   "id": "45ffec20-538f-4b63-af5e-a704e91467f3",
   "metadata": {
    "tags": []
   },
   "outputs": [
    {
     "name": "stdout",
     "output_type": "stream",
     "text": [
      "20\n"
     ]
    }
   ],
   "source": [
    "# if you want to acces it you need to use 'global' keyword\n",
    "def funct():\n",
    "    global age\n",
    "    age = 20\n",
    "funct()\n",
    "print(age)"
   ]
  },
  {
   "cell_type": "markdown",
   "id": "49b06bc5-15c3-4153-a0a0-a16972033996",
   "metadata": {},
   "source": [
    "### 9.How can you check if two variables point to the same memory location?"
   ]
  },
  {
   "cell_type": "code",
   "execution_count": 20,
   "id": "37138a92-c296-4a35-b3a6-2b41636c0b20",
   "metadata": {
    "tags": []
   },
   "outputs": [
    {
     "name": "stdout",
     "output_type": "stream",
     "text": [
      "True\n"
     ]
    }
   ],
   "source": [
    "a = 10\n",
    "b = 10\n",
    "print(id(a)==id(b))"
   ]
  },
  {
   "cell_type": "markdown",
   "id": "da45f84f-0eb4-4f5b-81f8-68a1432ec327",
   "metadata": {},
   "source": [
    "### 10.Explain the purpose of the id() function in Python."
   ]
  },
  {
   "cell_type": "markdown",
   "id": "9c143134-3e25-4357-b7b0-bdf6c2603638",
   "metadata": {},
   "source": [
    "* It returns memory adress of each object. As you can see above we showed if variables are in same memory location"
   ]
  },
  {
   "cell_type": "markdown",
   "id": "300cb11c-a632-4205-86e4-61cd28dd015c",
   "metadata": {},
   "source": [
    "# Data Types"
   ]
  },
  {
   "cell_type": "markdown",
   "id": "b2acdd35-ec8f-4a34-ace6-8f3bb5d4bdaf",
   "metadata": {},
   "source": [
    "### 1.Name at least five different data types in Python."
   ]
  },
  {
   "cell_type": "markdown",
   "id": "3ec7d90a-33bc-4578-8efb-0542864dfd0c",
   "metadata": {},
   "source": [
    "1. String\n",
    "2. Boolean\n",
    "3. Integer\n",
    "4. Float\n",
    "5. List\n",
    "6. Tuples etc."
   ]
  },
  {
   "cell_type": "markdown",
   "id": "7f03b3b9-81c1-4aa1-afa9-6788eadbace1",
   "metadata": {},
   "source": [
    "### 2.How do you check the data type of a variable in Python?"
   ]
  },
  {
   "cell_type": "markdown",
   "id": "b2ab9ea7-406a-4833-a18a-88602345c291",
   "metadata": {},
   "source": [
    "* using type() function. for instance:"
   ]
  },
  {
   "cell_type": "code",
   "execution_count": 21,
   "id": "b2a9b314-0c3a-448b-a139-8b78c77f04f0",
   "metadata": {
    "tags": []
   },
   "outputs": [
    {
     "name": "stdout",
     "output_type": "stream",
     "text": [
      "<class 'bool'>\n"
     ]
    }
   ],
   "source": [
    "boolean = True\n",
    "print(type(boolean))"
   ]
  },
  {
   "cell_type": "markdown",
   "id": "8073e91c-edfd-44e7-9cb5-25cc47a05b9e",
   "metadata": {},
   "source": [
    "### 3.Explain type casting or type conversion in Python."
   ]
  },
  {
   "cell_type": "markdown",
   "id": "4c635053-5942-41cd-8a7a-f11ac0cfa9b7",
   "metadata": {},
   "source": [
    "* There are 2 types of type casting \n",
    "* 1. implicit - where python converts one data type to another when it is needed. For example if we add float and integer pyhton will automatically convert integer to float\n",
    "* 2. explicit - we can do it manually. For example:"
   ]
  },
  {
   "cell_type": "code",
   "execution_count": 29,
   "id": "46177c9d-a35a-44c4-a37f-9a4a9a90e1ea",
   "metadata": {
    "tags": []
   },
   "outputs": [
    {
     "name": "stdout",
     "output_type": "stream",
     "text": [
      "<class 'str'>\n"
     ]
    }
   ],
   "source": [
    "w = 5\n",
    "q = str(w)\n",
    "print(type(q))"
   ]
  },
  {
   "cell_type": "markdown",
   "id": "8cd0d99e-08c4-4f01-9558-5ebff0540656",
   "metadata": {},
   "source": [
    "### 4.Convert the integer age into a string and store it in a variable age_str."
   ]
  },
  {
   "cell_type": "code",
   "execution_count": 30,
   "id": "2dc20cad-3c90-49e9-bb48-39ac783587f1",
   "metadata": {
    "tags": []
   },
   "outputs": [
    {
     "name": "stdout",
     "output_type": "stream",
     "text": [
      "<class 'str'>\n"
     ]
    }
   ],
   "source": [
    "age = 18\n",
    "age_str = str(age)\n",
    "print(type(age_str))"
   ]
  },
  {
   "cell_type": "markdown",
   "id": "7ca25ec7-995e-4b16-84ba-f8f176e73346",
   "metadata": {},
   "source": [
    "### 5.Convert the string \"3.14\" into a float and store it in a variable pi."
   ]
  },
  {
   "cell_type": "code",
   "execution_count": null,
   "id": "b995eb52-57eb-43f0-92c3-93338485d541",
   "metadata": {
    "tags": []
   },
   "outputs": [],
   "source": [
    "string = 3.14\n",
    "pi = float(string)\n",
    "print(pi)"
   ]
  },
  {
   "cell_type": "markdown",
   "id": "72851e51-8157-4772-bcf8-f3c291344aee",
   "metadata": {},
   "source": [
    "### 6.What is the None data type in Python used for?"
   ]
  },
  {
   "cell_type": "markdown",
   "id": "a6b5336f-77a9-4b31-9f36-2c42c4b1522e",
   "metadata": {},
   "source": [
    " * It can be used to initialize a variable that you don't want to assign any value yet. For example:"
   ]
  },
  {
   "cell_type": "code",
   "execution_count": 33,
   "id": "b72b6354-4395-41a9-b07f-2c15a24cdddb",
   "metadata": {
    "tags": []
   },
   "outputs": [
    {
     "name": "stdout",
     "output_type": "stream",
     "text": [
      "Nothing with value\n",
      "None\n"
     ]
    }
   ],
   "source": [
    "def something():\n",
    "    print(\"Nothing with value\")\n",
    "\n",
    "result = something()\n",
    "print(result)"
   ]
  },
  {
   "cell_type": "markdown",
   "id": "edaa2653-0ab4-44ea-87f3-262ff549069e",
   "metadata": {},
   "source": [
    "### 7.Explain the difference between mutable and immutable data types with examples."
   ]
  },
  {
   "cell_type": "markdown",
   "id": "663a0a1b-ea9a-450b-ad38-4f8461dcfce7",
   "metadata": {},
   "source": [
    "* Basically objects can be changed after creation are called mutable and objects that can not be changed are called immutable"
   ]
  },
  {
   "cell_type": "markdown",
   "id": "7f415967-ae86-4396-b5ba-676aa5345c19",
   "metadata": {},
   "source": [
    "### 8.Give examples of immutable data types in Python."
   ]
  },
  {
   "cell_type": "markdown",
   "id": "bed98139-ac5a-469b-a6ec-544d879210f9",
   "metadata": {},
   "source": [
    "* Lists\n",
    "* Sets\n",
    "* Dictionaries"
   ]
  },
  {
   "cell_type": "code",
   "execution_count": 34,
   "id": "89e39711-ee87-4ba1-a345-1bee11dc69e6",
   "metadata": {
    "tags": []
   },
   "outputs": [
    {
     "name": "stdout",
     "output_type": "stream",
     "text": [
      "[1, 2, 3, 4, 5, 7]\n"
     ]
    }
   ],
   "source": [
    "list  = [1,2,3,4,5]\n",
    "\n",
    "new_list = list.insert(6,7)\n",
    "print(list)\n"
   ]
  },
  {
   "cell_type": "markdown",
   "id": "d500f1d5-2f8d-44c9-a2f7-77e854b4e78e",
   "metadata": {},
   "source": [
    "### 9.Give examples of mutable data types in Python."
   ]
  },
  {
   "cell_type": "code",
   "execution_count": 36,
   "id": "0fb8262e-286c-47ac-8886-4ab9e4319627",
   "metadata": {
    "tags": []
   },
   "outputs": [
    {
     "name": "stdout",
     "output_type": "stream",
     "text": [
      "EVERYTHING IS DATA\n"
     ]
    }
   ],
   "source": [
    "my_string = \"Everything is data\"\n",
    "new_string = my_string.upper() \n",
    "print(new_string)"
   ]
  },
  {
   "cell_type": "markdown",
   "id": "8dad011a-0ec5-4656-b89c-a6564079184a",
   "metadata": {},
   "source": [
    "### 10.How can you check if a variable is None in Python?"
   ]
  },
  {
   "cell_type": "code",
   "execution_count": 37,
   "id": "db446f30-d627-4767-8a7f-6eba5db61ecd",
   "metadata": {
    "tags": []
   },
   "outputs": [
    {
     "name": "stdout",
     "output_type": "stream",
     "text": [
      "X is none\n"
     ]
    }
   ],
   "source": [
    "x = None\n",
    "\n",
    "if (x is None):\n",
    "    print('X is none')\n",
    "    \n",
    "elif():\n",
    "    print(\"x is not none\")"
   ]
  },
  {
   "cell_type": "markdown",
   "id": "bde536c7-58ee-4d52-afc0-9122945b3365",
   "metadata": {},
   "source": [
    "# Strings"
   ]
  },
  {
   "cell_type": "markdown",
   "id": "e64c4ee6-c4e1-4efd-9e4a-7de7c6716bb5",
   "metadata": {},
   "source": [
    "### 1.Create a string variable greeting and assign it the value \"Hello, World of Data!\"."
   ]
  },
  {
   "cell_type": "code",
   "execution_count": 38,
   "id": "4f9d5cf2-81a7-4452-8b5d-7288e80e9e34",
   "metadata": {
    "tags": []
   },
   "outputs": [
    {
     "name": "stdout",
     "output_type": "stream",
     "text": [
      "Hello, World of Data\n"
     ]
    }
   ],
   "source": [
    "greeting = \"Hello, World of Data\"\n",
    "print(greeting)"
   ]
  },
  {
   "cell_type": "markdown",
   "id": "c16460a1-20d4-42e4-b8b4-4be84d9b6c99",
   "metadata": {},
   "source": [
    "### 2.Find the length of the string \"Python is amazing!\"."
   ]
  },
  {
   "cell_type": "code",
   "execution_count": 39,
   "id": "44d7b567-0fd6-476c-b60d-9320865aef0a",
   "metadata": {
    "tags": []
   },
   "outputs": [
    {
     "name": "stdout",
     "output_type": "stream",
     "text": [
      "17\n"
     ]
    }
   ],
   "source": [
    "length = len('Python is amazing')\n",
    "print(length)"
   ]
  },
  {
   "cell_type": "markdown",
   "id": "0e6b09a1-8252-4bee-9cf6-886aecf2e30c",
   "metadata": {},
   "source": [
    "### 3.Extract the word \"Python\" from the string \"Python is versatile!\" using string slicing."
   ]
  },
  {
   "cell_type": "code",
   "execution_count": 40,
   "id": "7f80aa8f-93d7-4c1c-98f2-39dc210fa79e",
   "metadata": {
    "tags": []
   },
   "outputs": [
    {
     "name": "stdout",
     "output_type": "stream",
     "text": [
      "Python\n"
     ]
    }
   ],
   "source": [
    "sentence = \"Python is versatile!\"\n",
    "word_python = sentence.split()[0]\n",
    "print(word_python) \n"
   ]
  },
  {
   "cell_type": "markdown",
   "id": "0b25a4a2-1cc2-419e-82a5-3459433870e7",
   "metadata": {},
   "source": [
    "### 4.Concatenate the strings \"Hello\" and \"World\" into a single string."
   ]
  },
  {
   "cell_type": "code",
   "execution_count": 1,
   "id": "746049cc-eb4b-4200-bad1-3156b1ae72cf",
   "metadata": {
    "tags": []
   },
   "outputs": [
    {
     "name": "stdout",
     "output_type": "stream",
     "text": [
      "Hello World\n"
     ]
    }
   ],
   "source": [
    "first_string = \"Hello \"\n",
    "second_string = \"World\"\n",
    "concatenate = first_string + second_string\n",
    "print(concatenate)"
   ]
  },
  {
   "cell_type": "markdown",
   "id": "2d934a66-0437-4f5f-a12c-dc45cf489d3a",
   "metadata": {},
   "source": [
    "### 5.Convert the string \"hello\" to uppercase, then convert uppercase to lowercase."
   ]
  },
  {
   "cell_type": "code",
   "execution_count": 3,
   "id": "00676597-da45-4ab4-9055-e9581f412f05",
   "metadata": {
    "tags": []
   },
   "outputs": [
    {
     "name": "stdout",
     "output_type": "stream",
     "text": [
      "HELLO\n",
      "hello\n"
     ]
    }
   ],
   "source": [
    "string = \"hello\"\n",
    "uppercase = string.upper()\n",
    "print(uppercase)\n",
    "lowercase = uppercase.lower()\n",
    "print(lowercase)"
   ]
  },
  {
   "cell_type": "markdown",
   "id": "1da3f153-c213-4027-b134-241109c17358",
   "metadata": {},
   "source": [
    "# Numeric Operations"
   ]
  },
  {
   "cell_type": "markdown",
   "id": "fa320730-74c2-42b9-a78c-aa17a0adfb3f",
   "metadata": {},
   "source": [
    "### 1.Calculate the result of 10 divided by 3 and obtain the remainder."
   ]
  },
  {
   "cell_type": "code",
   "execution_count": 7,
   "id": "2124c081-dc7d-4073-987a-353432316bdc",
   "metadata": {
    "tags": []
   },
   "outputs": [
    {
     "name": "stdout",
     "output_type": "stream",
     "text": [
      "(3, 1)\n"
     ]
    }
   ],
   "source": [
    "calculate = int(10/3)\n",
    "remainder = 10%3\n",
    "result = calculate,remainder\n",
    "print(result)"
   ]
  },
  {
   "cell_type": "markdown",
   "id": "e75e1d2d-bcf4-4e39-9f2d-b22d4d1b5d3d",
   "metadata": {},
   "source": [
    "### 2.Perform exponentiation: raise 5 to the power of 3."
   ]
  },
  {
   "cell_type": "code",
   "execution_count": 11,
   "id": "eb0de1ed-4199-4530-b2ab-6a7060df57d7",
   "metadata": {
    "tags": []
   },
   "outputs": [
    {
     "name": "stdout",
     "output_type": "stream",
     "text": [
      "125\n"
     ]
    }
   ],
   "source": [
    "number  = 5\n",
    "power = 3\n",
    "exponential = number ** power\n",
    "print(exponential)"
   ]
  },
  {
   "cell_type": "markdown",
   "id": "00fb55c4-1462-4ffe-ac6d-97e86ab3c5e8",
   "metadata": {},
   "source": [
    "### 3.Find the absolute value of -7."
   ]
  },
  {
   "cell_type": "code",
   "execution_count": 14,
   "id": "4381ab95-438e-468b-b4ff-cb86dcf78f6d",
   "metadata": {
    "tags": []
   },
   "outputs": [
    {
     "name": "stdout",
     "output_type": "stream",
     "text": [
      "7\n"
     ]
    }
   ],
   "source": [
    "number = -7\n",
    "absolute_value = abs(number)\n",
    "print(absolute_value)"
   ]
  },
  {
   "cell_type": "markdown",
   "id": "8e1331be-6b31-424e-bf09-ca4864d2704c",
   "metadata": {},
   "source": [
    "### 4.Convert the float 3.1416 into an integer."
   ]
  },
  {
   "cell_type": "code",
   "execution_count": 15,
   "id": "f7f7aae2-c390-4b4c-97d1-f669d0a6ff92",
   "metadata": {
    "tags": []
   },
   "outputs": [
    {
     "name": "stdout",
     "output_type": "stream",
     "text": [
      "3\n"
     ]
    }
   ],
   "source": [
    "floating_num = 3.1416\n",
    "integer = int(floating_num)\n",
    "print(integer)"
   ]
  },
  {
   "cell_type": "markdown",
   "id": "15c5489a-e497-4121-86c4-a004bdecf794",
   "metadata": {},
   "source": [
    "### 5.Increment a numeric variable count by 1."
   ]
  },
  {
   "cell_type": "code",
   "execution_count": 16,
   "id": "0e896c93-b5fb-47cd-b717-2681f7898a5e",
   "metadata": {
    "tags": []
   },
   "outputs": [
    {
     "name": "stdout",
     "output_type": "stream",
     "text": [
      "100\n"
     ]
    }
   ],
   "source": [
    "count = 99 \n",
    "count += 1\n",
    "print(count)"
   ]
  },
  {
   "cell_type": "markdown",
   "id": "4a39e82e-afa3-411f-a564-31fcb661b772",
   "metadata": {},
   "source": [
    "# Boolean operations"
   ]
  },
  {
   "cell_type": "markdown",
   "id": "36be2885-678b-4c3c-b93e-3dfe7cee7146",
   "metadata": {},
   "source": [
    "### 1.Create a Boolean variable is_valid and set it to True."
   ]
  },
  {
   "cell_type": "code",
   "execution_count": 17,
   "id": "c61ebe04-959d-424d-a076-5d4b15d40440",
   "metadata": {
    "tags": []
   },
   "outputs": [
    {
     "name": "stdout",
     "output_type": "stream",
     "text": [
      "True\n"
     ]
    }
   ],
   "source": [
    "is_valid = True\n",
    "print(is_valid)"
   ]
  },
  {
   "cell_type": "markdown",
   "id": "a76fa1e6-07c5-4629-9bea-f050a53b36f3",
   "metadata": {},
   "source": [
    "### 2.Perform the logical AND operation between True and False."
   ]
  },
  {
   "cell_type": "code",
   "execution_count": 18,
   "id": "4f647731-a33b-4751-bfdb-87c6fb556b05",
   "metadata": {
    "tags": []
   },
   "outputs": [
    {
     "name": "stdout",
     "output_type": "stream",
     "text": [
      "False\n"
     ]
    }
   ],
   "source": [
    "boolean1 = True\n",
    "boolean2 = False\n",
    "if (boolean1 & boolean2 == True):\n",
    "    print(True)\n",
    "else:\n",
    "    print(False)"
   ]
  },
  {
   "cell_type": "markdown",
   "id": "5dd59bf3-d9c6-42a0-879a-469bc9d1384c",
   "metadata": {},
   "source": [
    "### 3.Perform the logical OR operation between True and False."
   ]
  },
  {
   "cell_type": "code",
   "execution_count": 20,
   "id": "2f0a4e67-9c87-4993-9cce-8ae8df8871e3",
   "metadata": {
    "tags": []
   },
   "outputs": [
    {
     "name": "stdout",
     "output_type": "stream",
     "text": [
      "True\n"
     ]
    }
   ],
   "source": [
    "boolean1 = True\n",
    "boolean2 = False\n",
    "if (boolean1 | boolean2 == True):\n",
    "    print(True)\n",
    "else:\n",
    "    print(False)"
   ]
  },
  {
   "cell_type": "markdown",
   "id": "afc80b19-1e8e-4c57-b8ea-58b1eaf91115",
   "metadata": {},
   "source": [
    "### 4.Negate the value of a Boolean variable flag."
   ]
  },
  {
   "cell_type": "code",
   "execution_count": 21,
   "id": "2c8a0d4b-5905-4b26-8923-c3f5cdc224a5",
   "metadata": {
    "tags": []
   },
   "outputs": [
    {
     "name": "stdout",
     "output_type": "stream",
     "text": [
      "False\n"
     ]
    }
   ],
   "source": [
    "flag = True\n",
    "negated_flag = not True\n",
    "print(negated_flag)"
   ]
  },
  {
   "cell_type": "markdown",
   "id": "097c19e1-15fc-413e-b16b-0989dba4770a",
   "metadata": {},
   "source": [
    "### 5.Check if both x and y are not equal."
   ]
  },
  {
   "cell_type": "code",
   "execution_count": 28,
   "id": "189358bc-3057-4fa9-bf0a-4d516b3a045c",
   "metadata": {
    "tags": []
   },
   "outputs": [
    {
     "name": "stdout",
     "output_type": "stream",
     "text": [
      "True\n"
     ]
    }
   ],
   "source": [
    "x = True\n",
    "y = not False\n",
    "if x and y:\n",
    "    print(True)\n",
    "else:\n",
    "    print(False)"
   ]
  },
  {
   "cell_type": "markdown",
   "id": "df86b76e-3fd8-44f8-9374-999dc6504928",
   "metadata": {},
   "source": [
    "# Advanced Concepts"
   ]
  },
  {
   "cell_type": "markdown",
   "id": "7e10b952-8198-4751-b54e-8e24d93948df",
   "metadata": {},
   "source": [
    "### 1.Explain the concept of dynamic typing in Python."
   ]
  },
  {
   "cell_type": "markdown",
   "id": "f7f35df9-6b40-4bda-a799-18e5eef8a71b",
   "metadata": {},
   "source": [
    "* Dynamic typing in Python means you don't have to declare a variable's type before using it. You can assign different types of data to a variable at different times during your program. For instance, a variable could hold a number and later hold a string "
   ]
  },
  {
   "cell_type": "markdown",
   "id": "a90e04d2-62a7-4e34-a1e3-4c45dbec76e8",
   "metadata": {},
   "source": [
    "### 2.How do you check if two variables hold the same value in Python?"
   ]
  },
  {
   "cell_type": "markdown",
   "id": "b4446747-38e6-472c-a1a8-c54ff1e4c88a",
   "metadata": {},
   "source": [
    "* You can use the equality operator == to check if two variables hold the same value in Python. For example:"
   ]
  },
  {
   "cell_type": "code",
   "execution_count": 29,
   "id": "2118873e-cc57-4f8f-beb0-93324e450bd6",
   "metadata": {
    "tags": []
   },
   "outputs": [
    {
     "name": "stdout",
     "output_type": "stream",
     "text": [
      "They hold the same value.\n"
     ]
    }
   ],
   "source": [
    "a = 5\n",
    "b = 5\n",
    "\n",
    "if a == b:\n",
    "    print(\"They hold the same value.\")\n",
    "else:\n",
    "    print(\"They are different.\")\n"
   ]
  },
  {
   "cell_type": "markdown",
   "id": "12ca230c-d5e5-4d52-8cf4-669ae045ae94",
   "metadata": {},
   "source": [
    "### 3.Explain the difference between '==' and 'is' in Python."
   ]
  },
  {
   "cell_type": "markdown",
   "id": "65aa16b3-6b97-48a6-aec0-7bbf67958bdc",
   "metadata": {},
   "source": [
    "* '==' checks if two variables have same value, while 'is' checks if variables have same memory adress"
   ]
  },
  {
   "cell_type": "code",
   "execution_count": 30,
   "id": "1baabee9-726f-4df9-92a3-a293b4cbd194",
   "metadata": {
    "tags": []
   },
   "outputs": [
    {
     "name": "stdout",
     "output_type": "stream",
     "text": [
      "True\n",
      "False\n"
     ]
    }
   ],
   "source": [
    "a = [1, 2, 3]\n",
    "b = [1, 2, 3]\n",
    "\n",
    "print(a == b)  #Output: True\n",
    "print(a is b)  #Output: False because they point to different memory locations\n"
   ]
  },
  {
   "cell_type": "markdown",
   "id": "5e7cb4ac-3971-4450-a4f7-2ce79f672705",
   "metadata": {},
   "source": [
    "### 4.What happens if you assign a value to a variable inside a function without using the 'global' keyword in Python?"
   ]
  },
  {
   "cell_type": "markdown",
   "id": "0dc2d97e-43ad-47dc-830d-806a8646edb0",
   "metadata": {},
   "source": [
    "* If you try to access a variable from within a function without it being explicitly available within that function's scope, you'll encounter a NameError. You can only access a variable from within the function if it's declared or passed into that specific function."
   ]
  },
  {
   "cell_type": "markdown",
   "id": "b10304d2-6517-4fcd-b6ea-60e144939a30",
   "metadata": {},
   "source": [
    "### 5.Explain the concept of truthy and falsy values in Python."
   ]
  },
  {
   "cell_type": "markdown",
   "id": "85115d4e-118b-422d-a88e-512cb97b0e9f",
   "metadata": {},
   "source": [
    "- empty lists, strings, dictionaries, tuples, ranges, integers, floats that are 0 etc. called falsy because these has no values while non-zero integers, non-empty sequences or collections"
   ]
  }
 ],
 "metadata": {
  "kernelspec": {
   "display_name": "Python 3 (ipykernel)",
   "language": "python",
   "name": "python3"
  },
  "language_info": {
   "codemirror_mode": {
    "name": "ipython",
    "version": 3
   },
   "file_extension": ".py",
   "mimetype": "text/x-python",
   "name": "python",
   "nbconvert_exporter": "python",
   "pygments_lexer": "ipython3",
   "version": "3.11.5"
  }
 },
 "nbformat": 4,
 "nbformat_minor": 5
}
